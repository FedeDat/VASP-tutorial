{
 "cells": [
  {
   "cell_type": "code",
   "execution_count": 5,
   "id": "63f9d642-d778-44ff-af22-0737016a67d9",
   "metadata": {},
   "outputs": [],
   "source": [
    "import numpy as np\n",
    "import pandas as pd\n",
    "import sys\n",
    "import re\n",
    "\n",
    "# INPUT\n",
    "\n",
    "bulk_struct=\"./bulk/CONTCAR\" \n",
    "surf_struct=\"./010/CONTCAR\"\n",
    "\n",
    "bulk_energy=\"./bulk/OUTCAR\"\n",
    "surf_energy=\"./010/OUTCAR\""
   ]
  },
  {
   "cell_type": "markdown",
   "id": "28fbfe4c-84df-4a28-a1b8-2fa651566ee5",
   "metadata": {},
   "source": [
    "![alt text](formula-for-energy.png \"Formula for calculating surface energy\")"
   ]
  },
  {
   "cell_type": "code",
   "execution_count": 35,
   "id": "2ffae886-4828-4bcb-8a36-1bd7b5e1ccd9",
   "metadata": {},
   "outputs": [
    {
     "name": "stdout",
     "output_type": "stream",
     "text": [
      "Reading input.\n",
      "Lattive vectors and number of atoms in the unit cell\n",
      "[8.39290047 0.         0.        ] [3.99620280e-03 1.14501994e+01 0.00000000e+00] [ 0.          0.         16.35849953] 48\n",
      "Area of the surface and number of atoms within the cell\n",
      "96.10038375271454 48\n"
     ]
    }
   ],
   "source": [
    "# Work with this command to extract the lattice vectors and calculated the area of the surface. Similarly, check how many unit cell do you have in your cell to estimate the N value\n",
    "\n",
    "print(\"Reading input.\")\n",
    "\n",
    "# Reading the vectors of the elementary cell #\n",
    "\n",
    "cell_vec=pd.read_csv(surf_struct, delim_whitespace=True,skiprows=2,nrows=3,names=['x','y','z'])\n",
    "cell_vec.head()\n",
    "a1=np.array([float(cell_vec.loc[0].x),float(cell_vec.loc[0].y),float(cell_vec.loc[0].z)])\n",
    "a2=np.array([float(cell_vec.loc[1].x),float(cell_vec.loc[1].y),float(cell_vec.loc[1].z)])\n",
    "a3=np.array([float(cell_vec.loc[2].x),float(cell_vec.loc[2].y),float(cell_vec.loc[2].z)])\n",
    "\n",
    "# Reading the number of atoms#\n",
    "\n",
    "atoms_n=pd.read_csv(surf_struct, delim_whitespace=True,skiprows=5,nrows=1)\n",
    "n_atoms=atoms_n.T.sum().loc[0]\n",
    "\n",
    "print(\"Lattive vectors and number of atoms in the unit cell\")\n",
    "print(a1,a2,a3,n_atoms)\n",
    "\n",
    "area=a1[0]*a2[1] # Area calculated in Angstrom\n",
    "print(\"Area of the surface and number of atoms within the cell\")\n",
    "print(area,n_atoms)\n",
    "\n",
    "# Repeat the same with the bulk"
   ]
  },
  {
   "cell_type": "code",
   "execution_count": 24,
   "id": "5874d9b6-822f-4647-931b-6d419851b154",
   "metadata": {},
   "outputs": [
    {
     "data": {
      "text/html": [
       "<div>\n",
       "<style scoped>\n",
       "    .dataframe tbody tr th:only-of-type {\n",
       "        vertical-align: middle;\n",
       "    }\n",
       "\n",
       "    .dataframe tbody tr th {\n",
       "        vertical-align: top;\n",
       "    }\n",
       "\n",
       "    .dataframe thead th {\n",
       "        text-align: right;\n",
       "    }\n",
       "</style>\n",
       "<table border=\"1\" class=\"dataframe\">\n",
       "  <thead>\n",
       "    <tr style=\"text-align: right;\">\n",
       "      <th></th>\n",
       "      <th>In</th>\n",
       "      <th>Pd</th>\n",
       "    </tr>\n",
       "  </thead>\n",
       "  <tbody>\n",
       "    <tr>\n",
       "      <th>0</th>\n",
       "      <td>4</td>\n",
       "      <td>8</td>\n",
       "    </tr>\n",
       "  </tbody>\n",
       "</table>\n",
       "</div>"
      ],
      "text/plain": [
       "   In  Pd\n",
       "0   4   8"
      ]
     },
     "execution_count": 24,
     "metadata": {},
     "output_type": "execute_result"
    }
   ],
   "source": [
    "atoms_n"
   ]
  },
  {
   "cell_type": "code",
   "execution_count": 17,
   "id": "dcafb3af-cda8-43dc-b535-79a3338a194b",
   "metadata": {},
   "outputs": [
    {
     "name": "stdout",
     "output_type": "stream",
     "text": [
      "  energy  without entropy=      -58.08984873  energy(sigma->0) =      -58.09113228\n",
      "\n",
      "  energy  without entropy=      -58.24953741  energy(sigma->0) =      -58.25092506\n",
      "\n",
      "  energy  without entropy=      -58.26741065  energy(sigma->0) =      -58.26888826\n",
      "\n",
      "  energy  without entropy=      -58.26759566  energy(sigma->0) =      -58.26906651\n",
      "\n",
      "  energy  without entropy=      -58.26843595  energy(sigma->0) =      -58.26989780\n",
      "\n",
      "  energy  without entropy=      -58.27027885  energy(sigma->0) =      -58.27171136\n",
      "\n",
      "  energy  without entropy=      -58.27112145  energy(sigma->0) =      -58.27243822\n",
      "\n",
      "  energy  without entropy=      -58.27117704  energy(sigma->0) =      -58.27255645\n",
      "\n",
      "  energy  without entropy=      -58.27189535  energy(sigma->0) =      -58.27323773\n",
      "\n",
      "  energy  without entropy=      -58.27266354  energy(sigma->0) =      -58.27381446\n",
      "\n",
      "  energy  without entropy=      -58.27262644  energy(sigma->0) =      -58.27383575\n",
      "\n",
      "  energy  without entropy=      -58.27318733  energy(sigma->0) =      -58.27432714\n",
      "\n",
      "  energy  without entropy=      -58.27318655  energy(sigma->0) =      -58.27432714\n",
      "\n",
      "  energy  without entropy=      -58.27318744  energy(sigma->0) =      -58.27432765\n",
      "\n",
      "  energy  without entropy=      -58.27329842  energy(sigma->0) =      -58.27444282\n",
      "\n",
      "  energy  without entropy=      -58.27348442  energy(sigma->0) =      -58.27464098\n",
      "\n"
     ]
    }
   ],
   "source": [
    "# Work with this command to extract the initial/final energy for the surface and the final energy for the bulk.\n",
    "\n",
    "for line in open(bulk_energy, 'r'):\n",
    "    if re.search(\"energy  w\", line): # given in eV\n",
    "        print(line)"
   ]
  },
  {
   "cell_type": "code",
   "execution_count": null,
   "id": "0b809540-7154-48e0-8a58-87083fc67f01",
   "metadata": {},
   "outputs": [],
   "source": [
    "# Combine the previous value to calculate the surface energy for the given facet in J m-2 or eV / A. Consider improving the script by cycling between the facets."
   ]
  }
 ],
 "metadata": {
  "kernelspec": {
   "display_name": "Python 3",
   "language": "python",
   "name": "python3"
  },
  "language_info": {
   "codemirror_mode": {
    "name": "ipython",
    "version": 3
   },
   "file_extension": ".py",
   "mimetype": "text/x-python",
   "name": "python",
   "nbconvert_exporter": "python",
   "pygments_lexer": "ipython3",
   "version": "3.8.8"
  }
 },
 "nbformat": 4,
 "nbformat_minor": 5
}
